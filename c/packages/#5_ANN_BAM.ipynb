{
 "cells": [
  {
   "cell_type": "code",
   "execution_count": null,
   "id": "d0af31a6",
   "metadata": {},
   "outputs": [],
   "source": [
    "##Bidirectional associative memory for 2 pair of vectors "
   ]
  },
  {
   "cell_type": "code",
   "execution_count": null,
   "id": "5be65ae4",
   "metadata": {},
   "outputs": [],
   "source": []
  },
  {
   "cell_type": "code",
   "execution_count": 1,
   "id": "676049c0",
   "metadata": {},
   "outputs": [
    {
     "name": "stdout",
     "output_type": "stream",
     "text": [
      "Recalling X from A: [2 2]\n",
      "Input Pattern: [0 1 1]\n",
      "Output Pattern: [1 0 1]\n",
      "Recalling Y from B: [1 0 1]\n"
     ]
    }
   ],
   "source": [
    "import numpy as np\n",
    "\n",
    "# Input and Output patterns\n",
    "A = np.array([1, 0, 1])\n",
    "B = np.array([0, 1, 1])\n",
    "X = np.array([1, 1])\n",
    "Y = np.array([0, 0])\n",
    "\n",
    "# Weight matrices\n",
    "W = np.outer(X, A) + np.outer(Y, B)\n",
    "M = np.outer(A, X) + np.outer(B, Y)\n",
    "\n",
    "# Test patterns\n",
    "test_patterns = [A, B, X, Y]\n",
    "\n",
    "# Associative recall function\n",
    "def recall(pattern):\n",
    "    # Initialize output pattern\n",
    "    output_pattern = np.zeros_like(X)\n",
    "    \n",
    "    # Calculate output pattern using W\n",
    "    for i in range(len(X)):\n",
    "        output_pattern[i] = np.dot(W[i], pattern)\n",
    "    \n",
    "    # Check if output pattern matches any stored output pattern\n",
    "    for stored_pattern, stored_output in zip(test_patterns, [X, Y, A, B]):\n",
    "        if np.array_equal(output_pattern, stored_output):\n",
    "            print(\"Input Pattern:\", pattern)\n",
    "            print(\"Output Pattern:\", stored_pattern)\n",
    "            return stored_pattern\n",
    "    \n",
    "    return output_pattern\n",
    "\n",
    "# Test recall\n",
    "print(\"Recalling X from A:\", recall(A))\n",
    "print(\"Recalling Y from B:\", recall(B))\n"
   ]
  },
  {
   "cell_type": "code",
   "execution_count": null,
   "id": "c8cce769",
   "metadata": {},
   "outputs": [],
   "source": []
  }
 ],
 "metadata": {
  "kernelspec": {
   "display_name": "Python 3 (ipykernel)",
   "language": "python",
   "name": "python3"
  },
  "language_info": {
   "codemirror_mode": {
    "name": "ipython",
    "version": 3
   },
   "file_extension": ".py",
   "mimetype": "text/x-python",
   "name": "python",
   "nbconvert_exporter": "python",
   "pygments_lexer": "ipython3",
   "version": "3.10.11"
  }
 },
 "nbformat": 4,
 "nbformat_minor": 5
}
