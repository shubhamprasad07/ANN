{
 "cells": [
  {
   "cell_type": "code",
   "execution_count": 1,
   "id": "858575b1-f700-4b4f-ac0d-e2093d2e876b",
   "metadata": {},
   "outputs": [],
   "source": [
    "import numpy as np"
   ]
  },
  {
   "cell_type": "code",
   "execution_count": 17,
   "id": "d2c8232d-d41a-4dcf-8fd2-4144a050c8ad",
   "metadata": {},
   "outputs": [],
   "source": [
    "inputs = [[1,1,0,0,0,0],\n",
    "        [1,1,0,0,0,1],\n",
    "        [1,1,0,0,1,0],\n",
    "        [1,1,0,0,1,1],\n",
    "        [1,1,0,1,0,0],\n",
    "        [1,1,0,1,0,1],\n",
    "        [1,1,0,1,1,0],\n",
    "        [1,1,0,1,1,1],\n",
    "        [1,1,1,0,0,0],\n",
    "        [1,1,1,0,0,1]]\n",
    "\n",
    "labels = [1,0,1,0,1,0,1,0,1,0]"
   ]
  },
  {
   "cell_type": "code",
   "execution_count": 18,
   "id": "d5593dd9-3d25-49f9-b144-1b79aca5cb5a",
   "metadata": {},
   "outputs": [],
   "source": [
    "def step_fun(x):\n",
    "    if x >= 0:\n",
    "        return 1\n",
    "    else:\n",
    "        return 0"
   ]
  },
  {
   "cell_type": "code",
   "execution_count": 19,
   "id": "35240ecd-ca14-40dc-9c9a-ae7430201f07",
   "metadata": {},
   "outputs": [
    {
     "name": "stdout",
     "output_type": "stream",
     "text": [
      "[0, 0, 0, 0, 0, 1]\n",
      "10\n"
     ]
    }
   ],
   "source": [
    "weights = [ 0 , 0 , 0 , 0 , 0 , 1]\n",
    "print(weights)\n",
    "print(len(inputs))"
   ]
  },
  {
   "cell_type": "code",
   "execution_count": 20,
   "id": "007e9508-12e9-4773-82f7-6f19c06c85e8",
   "metadata": {},
   "outputs": [
    {
     "name": "stdout",
     "output_type": "stream",
     "text": [
      "0\n",
      "[0 0 0 0 0 1]\n",
      "1\n",
      "[-1 -1  0  0  0  0]\n",
      "-2\n",
      "[0 0 0 0 1 0]\n",
      "1\n",
      "[-1 -1  0  0  0 -1]\n",
      "-2\n",
      "[ 0  0  0  1  0 -1]\n",
      "0\n",
      "[-1 -1  0  0  0 -2]\n",
      "-2\n",
      "[ 0  0  0  1  1 -2]\n",
      "0\n",
      "[-1 -1  0  0  0 -3]\n",
      "-2\n",
      "[ 0  0  1  0  0 -3]\n",
      "-2\n",
      "[ 0  0  1  0  0 -3]\n"
     ]
    }
   ],
   "source": [
    "for i in range(len(inputs)):\n",
    "    input_data = np.array(inputs[i])\n",
    "    label_data = labels[i]\n",
    "    output = step_fun(np.dot(input_data,weights))\n",
    "    print(np.dot(input_data,weights))\n",
    "    error = label_data - output    \n",
    "    weights += error * input_data\n",
    "    print(weights)"
   ]
  },
  {
   "cell_type": "code",
   "execution_count": 35,
   "id": "3459471b-dcff-4511-b77d-58c9e55b070d",
   "metadata": {},
   "outputs": [
    {
     "name": "stdout",
     "output_type": "stream",
     "text": [
      "4  is  even\n"
     ]
    }
   ],
   "source": [
    "j = 4\n",
    "input = np.array([int(x) for x in list('{0:06b}'.format(j))])\n",
    "output = \"odd\" if step_fun(np.dot(input, weights)) == 0 else \"even\"\n",
    "print(j, \" is \", output)"
   ]
  },
  {
   "cell_type": "code",
   "execution_count": null,
   "id": "fea4df06-05da-425a-a455-9905645f9040",
   "metadata": {},
   "outputs": [],
   "source": []
  }
 ],
 "metadata": {
  "kernelspec": {
   "display_name": "Python 3 (ipykernel)",
   "language": "python",
   "name": "python3"
  },
  "language_info": {
   "codemirror_mode": {
    "name": "ipython",
    "version": 3
   },
   "file_extension": ".py",
   "mimetype": "text/x-python",
   "name": "python",
   "nbconvert_exporter": "python",
   "pygments_lexer": "ipython3",
   "version": "3.10.11"
  }
 },
 "nbformat": 4,
 "nbformat_minor": 5
}
