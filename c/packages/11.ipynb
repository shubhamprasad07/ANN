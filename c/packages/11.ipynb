{
 "cells": [
  {
   "cell_type": "code",
   "execution_count": 1,
   "id": "5729329d-7a06-47ba-bdfa-71aeea03c13b",
   "metadata": {},
   "outputs": [],
   "source": [
    "import numpy as np\n"
   ]
  },
  {
   "cell_type": "code",
   "execution_count": 2,
   "id": "876aa88b-47ae-41f9-9673-0b1287ae043a",
   "metadata": {},
   "outputs": [],
   "source": [
    "vector = np.array(\n",
    "    [\n",
    "        [1,1,-1,-1],\n",
    "        [-1,-1,1,1],\n",
    "        [1,-1,1,-1,],\n",
    "        [-1,1,-1,1]\n",
    "    ]\n",
    ")"
   ]
  },
  {
   "cell_type": "code",
   "execution_count": 12,
   "id": "9e7b8058-1220-4319-8f0a-224287749753",
   "metadata": {},
   "outputs": [
    {
     "data": {
      "text/plain": [
       "array([[ 0, -4,  0,  0],\n",
       "       [-4,  0,  0,  0],\n",
       "       [ 0,  0,  0, -4],\n",
       "       [ 0,  0, -4,  0]])"
      ]
     },
     "execution_count": 12,
     "metadata": {},
     "output_type": "execute_result"
    }
   ],
   "source": [
    "weight = np.dot(vector , vector.T)\n",
    "np.fill_diagonal(weight,0)\n",
    "weight"
   ]
  },
  {
   "cell_type": "code",
   "execution_count": 13,
   "id": "30fe835c-4994-4819-945a-ebb35d712894",
   "metadata": {},
   "outputs": [],
   "source": [
    "def hop(x,w):\n",
    "    output = np.sign(np.dot(x,w))\n",
    "    return output"
   ]
  },
  {
   "cell_type": "code",
   "execution_count": 15,
   "id": "a67a5d33-24b4-4bda-8203-23753ac9b7db",
   "metadata": {},
   "outputs": [
    {
     "name": "stdout",
     "output_type": "stream",
     "text": [
      "[-1 -1  1  1]\n"
     ]
    }
   ],
   "source": [
    "print(hop(vector[0] , weight))"
   ]
  },
  {
   "cell_type": "code",
   "execution_count": null,
   "id": "88841cac-dd0e-4ab2-a39a-c5db61723c80",
   "metadata": {},
   "outputs": [],
   "source": []
  },
  {
   "cell_type": "code",
   "execution_count": null,
   "id": "cc2abf0d-afa3-4eac-9639-0d33b08a196b",
   "metadata": {},
   "outputs": [],
   "source": []
  },
  {
   "cell_type": "code",
   "execution_count": null,
   "id": "28c4a5bd-9beb-4bef-ab2e-b6e87fc88aba",
   "metadata": {},
   "outputs": [],
   "source": []
  },
  {
   "cell_type": "code",
   "execution_count": null,
   "id": "aec296fc-af84-47b6-84ab-2edf4c204ec6",
   "metadata": {},
   "outputs": [],
   "source": []
  },
  {
   "cell_type": "code",
   "execution_count": null,
   "id": "77cade74-3244-4d43-8831-822484fbd879",
   "metadata": {},
   "outputs": [],
   "source": []
  }
 ],
 "metadata": {
  "kernelspec": {
   "display_name": "Python 3 (ipykernel)",
   "language": "python",
   "name": "python3"
  },
  "language_info": {
   "codemirror_mode": {
    "name": "ipython",
    "version": 3
   },
   "file_extension": ".py",
   "mimetype": "text/x-python",
   "name": "python",
   "nbconvert_exporter": "python",
   "pygments_lexer": "ipython3",
   "version": "3.10.11"
  }
 },
 "nbformat": 4,
 "nbformat_minor": 5
}
