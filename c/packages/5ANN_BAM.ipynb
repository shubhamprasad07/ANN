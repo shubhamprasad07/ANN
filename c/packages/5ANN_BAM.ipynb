{
 "cells": [
  {
   "cell_type": "code",
   "execution_count": 1,
   "id": "aca250b7-e29a-463f-8bdd-cba4e5c3be08",
   "metadata": {},
   "outputs": [],
   "source": [
    "import numpy as np"
   ]
  },
  {
   "cell_type": "code",
   "execution_count": 34,
   "id": "706cac57-c7c7-4d70-bd28-ed2b73b71266",
   "metadata": {},
   "outputs": [
    {
     "name": "stdout",
     "output_type": "stream",
     "text": [
      "(2, 4)\n",
      "(2, 2)\n",
      "[[ 2  0  0 -2]\n",
      " [-2  0  0  2]]\n"
     ]
    }
   ],
   "source": [
    "X = np.array([ [1,-1,-1,-1] , [-1,-1,-1,1] ])\n",
    "print(X.shape)\n",
    "Y = np.array([ [1,-1] , [-1,1] ])\n",
    "print(Y.shape)\n",
    "W = np.dot(Y , X)\n",
    "print(W)\n"
   ]
  },
  {
   "cell_type": "code",
   "execution_count": 35,
   "id": "4aaa1a6d-1fee-485a-94c0-b0e9df4556c1",
   "metadata": {},
   "outputs": [],
   "source": [
    "def bam(x):\n",
    "    return np.sign(np.dot(W,x))"
   ]
  },
  {
   "cell_type": "code",
   "execution_count": 44,
   "id": "c363f5e7-1e33-4973-94ea-e1f67c957577",
   "metadata": {},
   "outputs": [],
   "source": [
    "x_test = np.array([1,-1,-1,-1])\n",
    "y_test = bam(x_test)"
   ]
  },
  {
   "cell_type": "code",
   "execution_count": 45,
   "id": "1fc8fd40-5eb8-40b1-bdd4-e5dfceaa25df",
   "metadata": {},
   "outputs": [
    {
     "name": "stdout",
     "output_type": "stream",
     "text": [
      "Input x: [ 1 -1 -1 -1]\n",
      "Output y: [ 1 -1]\n"
     ]
    }
   ],
   "source": [
    "print(\"Input x:\", x_test)\n",
    "print(\"Output y:\", y_test)"
   ]
  },
  {
   "cell_type": "code",
   "execution_count": 16,
   "id": "79cb1a5e-3078-4a54-b768-3b51c8b95f44",
   "metadata": {},
   "outputs": [
    {
     "name": "stdout",
     "output_type": "stream",
     "text": [
      "Input x:  [ 1 -1 -1 -1]\n",
      "Output y:  [ 1 -1]\n"
     ]
    }
   ],
   "source": [
    "import numpy as np\n",
    "# define two pairs of vectors\n",
    "x1 = np.array([1, 1, 1, -1])\n",
    "y1 = np.array([1, -1])\n",
    "x2 = np.array([-1, -1, 1, 1])\n",
    "y2 = np.array([-1, 1])\n",
    "# compute weight matrix W\n",
    "W = np.outer(y1, x1) + np.outer(y2, x2)\n",
    "# define BAM function\n",
    "def bam(x):\n",
    " y = np.dot(W, x)\n",
    " y = np.where(y >= 0, 1, -1)\n",
    " return y\n",
    "# test BAM with inputs\n",
    "x_test = np.array([1, -1, -1, -1])\n",
    "y_test = bam(x_test)\n",
    "# print output\n",
    "print(\"Input x: \", x_test)\n",
    "print(\"Output y: \", y_test)\n"
   ]
  },
  {
   "cell_type": "code",
   "execution_count": null,
   "id": "30f0a120-e04a-4646-9a09-f30ffbacee9c",
   "metadata": {},
   "outputs": [],
   "source": []
  }
 ],
 "metadata": {
  "kernelspec": {
   "display_name": "Python 3 (ipykernel)",
   "language": "python",
   "name": "python3"
  },
  "language_info": {
   "codemirror_mode": {
    "name": "ipython",
    "version": 3
   },
   "file_extension": ".py",
   "mimetype": "text/x-python",
   "name": "python",
   "nbconvert_exporter": "python",
   "pygments_lexer": "ipython3",
   "version": "3.10.11"
  }
 },
 "nbformat": 4,
 "nbformat_minor": 5
}
