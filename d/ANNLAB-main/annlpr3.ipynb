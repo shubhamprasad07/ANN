{
  "cells": [
    {
      "cell_type": "markdown",
      "metadata": {
        "colab_type": "text",
        "id": "view-in-github"
      },
      "source": [
        "<a href=\"https://colab.research.google.com/github/Tejas9523/ANNLAB/blob/main/annlpr3.ipynb\" target=\"_parent\"><img src=\"https://colab.research.google.com/assets/colab-badge.svg\" alt=\"Open In Colab\"/></a>"
      ]
    },
    {
      "cell_type": "code",
      "execution_count": 1,
      "metadata": {
        "id": "ivE67MEx4hAx"
      },
      "outputs": [],
      "source": [
        "import numpy as np"
      ]
    },
    {
      "cell_type": "code",
      "execution_count": 2,
      "metadata": {
        "id": "XS-tQ8lz6MIW"
      },
      "outputs": [],
      "source": [
        "j = int(input(\"Enter a Number (0-9): \"))\n",
        "step_function = lambda x: 1 if x >= 0 else 0"
      ]
    },
    {
      "cell_type": "code",
      "execution_count": 3,
      "metadata": {
        "id": "3-crPZQT4mmS"
      },
      "outputs": [],
      "source": [
        "training_data = [\n",
        "    {'input': [1, 1, 0, 0, 0, 0], 'label': 1},\n",
        "    {'input': [1, 1, 0, 0, 0, 1], 'label': 0},\n",
        "    {'input': [1, 1, 0, 0, 1, 0], 'label': 1},\n",
        "    {'input': [1, 1, 0, 1, 1, 1], 'label': 0},\n",
        "    {'input': [1, 1, 0, 1, 0, 0], 'label': 1},\n",
        "    {'input': [1, 1, 0, 1, 0, 1], 'label': 0},\n",
        "    {'input': [1, 1, 0, 1, 1, 0], 'label': 1},\n",
        "    {'input': [1, 1, 0, 1, 1, 1], 'label': 0},\n",
        "    {'input': [1, 1, 1, 0, 0, 0], 'label': 1},\n",
        "    {'input': [1, 1, 1, 0, 0, 1], 'label': 0},\n",
        "]"
      ]
    },
    {
      "cell_type": "code",
      "execution_count": 4,
      "metadata": {
        "id": "VaHaW6B24oum"
      },
      "outputs": [],
      "source": [
        "weights = np.array([0, 0, 0, 0, 0, 1])"
      ]
    },
    {
      "cell_type": "code",
      "execution_count": 8,
      "metadata": {
        "id": "32WSG0di4qGB"
      },
      "outputs": [],
      "source": [
        "for data in training_data:\n",
        "    input = np.array(data['input'])\n",
        "    label = data['label']\n",
        "    output = step_function(np.dot(input, weights))\n",
        "    error = label - output\n",
        "    weights += input * error"
      ]
    },
    {
      "cell_type": "code",
      "execution_count": 6,
      "metadata": {
        "colab": {
          "base_uri": "https://localhost:8080/"
        },
        "id": "BUFopKm14rUG",
        "outputId": "fa6cb737-7255-4871-bb54-cffc70bc1abf"
      },
      "outputs": [
        {
          "name": "stdout",
          "output_type": "stream",
          "text": [
            "7  is  odd\n"
          ]
        }
      ],
      "source": [
        "input = np.array([int(x) for x in list('{0:06b}'.format(j))])\n",
        "output = \"odd\" if step_function(np.dot(input, weights)) == 0 else \"even\"\n",
        "print(j, \" is \", output)"
      ]
    },
    {
      "cell_type": "code",
      "execution_count": null,
      "metadata": {},
      "outputs": [],
      "source": []
    }
  ],
  "metadata": {
    "colab": {
      "include_colab_link": true,
      "provenance": []
    },
    "kernelspec": {
      "display_name": "Python 3",
      "name": "python3"
    },
    "language_info": {
      "codemirror_mode": {
        "name": "ipython",
        "version": 3
      },
      "file_extension": ".py",
      "mimetype": "text/x-python",
      "name": "python",
      "nbconvert_exporter": "python",
      "pygments_lexer": "ipython3",
      "version": "3.10.11"
    }
  },
  "nbformat": 4,
  "nbformat_minor": 0
}
