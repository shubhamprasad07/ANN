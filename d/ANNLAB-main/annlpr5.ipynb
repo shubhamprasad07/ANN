{
  "cells": [
    {
      "cell_type": "markdown",
      "metadata": {
        "colab_type": "text",
        "id": "view-in-github"
      },
      "source": [
        "<a href=\"https://colab.research.google.com/github/Tejas9523/ANNLAB/blob/main/annlpr5.ipynb\" target=\"_parent\"><img src=\"https://colab.research.google.com/assets/colab-badge.svg\" alt=\"Open In Colab\"/></a>"
      ]
    },
    {
      "cell_type": "code",
      "execution_count": 2,
      "metadata": {
        "colab": {
          "base_uri": "https://localhost:8080/"
        },
        "id": "_VE4n5hjcGIc",
        "outputId": "a4564bf7-f9a3-4408-cad9-fbb67445c4b5"
      },
      "outputs": [
        {
          "name": "stdout",
          "output_type": "stream",
          "text": [
            "Input x: [ 1 -1 -1 -1]\n",
            "Output y: [ 1 -1]\n"
          ]
        }
      ],
      "source": [
        "import numpy as np\n",
        "X = np.array([[1, 1, 1, -1], [-1, -1, 1, 1]])\n",
        "Y = np.array([[1, -1], [-1, 1]])\n",
        "W = np.dot(Y, X)\n",
        "\n",
        "def bam(x):\n",
        "    return np.sign(np.dot(W, x))\n",
        "\n",
        "x_test = np.array([1, -1, -1, -1])\n",
        "y_test = bam(x_test)\n",
        "\n",
        "\n",
        "print(\"Input x:\", x_test)\n",
        "print(\"Output y:\", y_test)"
      ]
    },
    {
      "cell_type": "code",
      "execution_count": null,
      "metadata": {},
      "outputs": [],
      "source": []
    }
  ],
  "metadata": {
    "colab": {
      "authorship_tag": "ABX9TyMbE8171iVeR+6SZG4zaZM0",
      "include_colab_link": true,
      "provenance": []
    },
    "kernelspec": {
      "display_name": "Python 3",
      "name": "python3"
    },
    "language_info": {
      "codemirror_mode": {
        "name": "ipython",
        "version": 3
      },
      "file_extension": ".py",
      "mimetype": "text/x-python",
      "name": "python",
      "nbconvert_exporter": "python",
      "pygments_lexer": "ipython3",
      "version": "3.10.11"
    }
  },
  "nbformat": 4,
  "nbformat_minor": 0
}
