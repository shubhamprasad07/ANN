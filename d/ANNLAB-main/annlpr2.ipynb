{
  "cells": [
    {
      "cell_type": "markdown",
      "metadata": {
        "colab_type": "text",
        "id": "view-in-github"
      },
      "source": [
        "<a href=\"https://colab.research.google.com/github/Tejas9523/ANNLAB/blob/main/annlpr2.ipynb\" target=\"_parent\"><img src=\"https://colab.research.google.com/assets/colab-badge.svg\" alt=\"Open In Colab\"/></a>"
      ]
    },
    {
      "cell_type": "code",
      "execution_count": 6,
      "metadata": {
        "id": "uVr885YyFK0p"
      },
      "outputs": [],
      "source": [
        "import numpy as np"
      ]
    },
    {
      "cell_type": "code",
      "execution_count": 7,
      "metadata": {
        "id": "F-OkIzpj3oB4"
      },
      "outputs": [],
      "source": [
        "def mp_neuron(inputs, weights, threshold):\n",
        "    weighted_sum = np.dot(inputs, weights)\n",
        "    output = 1 if weighted_sum >= threshold else 0\n",
        "    return output"
      ]
    },
    {
      "cell_type": "code",
      "execution_count": 9,
      "metadata": {
        "id": "vlwtm64n3qZx"
      },
      "outputs": [],
      "source": [
        "def and_not(x1, x2):\n",
        "    weights = [1, -1]\n",
        "    threshold = 1\n",
        "    inputs = np.array([x1, x2])\n",
        "    output = mp_neuron(inputs, weights, threshold)\n",
        "    return output"
      ]
    },
    {
      "cell_type": "code",
      "execution_count": 10,
      "metadata": {
        "colab": {
          "base_uri": "https://localhost:8080/"
        },
        "id": "uhRDYxts3slM",
        "outputId": "063e35b8-8a94-4ddd-c4e4-efeaad99fec8"
      },
      "outputs": [
        {
          "name": "stdout",
          "output_type": "stream",
          "text": [
            "0\n",
            "1\n",
            "0\n",
            "0\n"
          ]
        }
      ],
      "source": [
        "print(and_not(0, 0))\n",
        "print(and_not(1, 0))\n",
        "print(and_not(0, 1))\n",
        "print(and_not(1, 1))"
      ]
    },
    {
      "cell_type": "code",
      "execution_count": 2,
      "metadata": {},
      "outputs": [
        {
          "name": "stdout",
          "output_type": "stream",
          "text": [
            "1\n",
            "1\n",
            "0\n",
            "1\n"
          ]
        }
      ],
      "source": [
        "def mp_neuron(inputs, weights, threshold):\n",
        "    weighted_sum = sum(x * w for x, w in zip(inputs, weights))\n",
        "    output = 1 if weighted_sum >= threshold else 0\n",
        "    return output \n",
        "\n",
        "def and_not(x1, x2):\n",
        "    weights = [-1, 1]  # Update weights\n",
        "    threshold = 0      # Update threshold\n",
        "    inputs = [x1, x2]\n",
        "    output = mp_neuron(inputs, weights, threshold)\n",
        "    return output\n",
        "\n",
        "# Testing the function\n",
        "print(and_not(0, 0))  # Output: 0\n",
        "print(and_not(0, 1))  # Output: 1\n",
        "print(and_not(1, 0))  # Output: 0\n",
        "print(and_not(1, 1))  # Output: 0\n"
      ]
    },
    {
      "cell_type": "code",
      "execution_count": null,
      "metadata": {},
      "outputs": [],
      "source": []
    }
  ],
  "metadata": {
    "colab": {
      "authorship_tag": "ABX9TyP5G1HzeUPEMF4gCQ8c2y3J",
      "include_colab_link": true,
      "provenance": []
    },
    "kernelspec": {
      "display_name": "Python 3",
      "name": "python3"
    },
    "language_info": {
      "codemirror_mode": {
        "name": "ipython",
        "version": 3
      },
      "file_extension": ".py",
      "mimetype": "text/x-python",
      "name": "python",
      "nbconvert_exporter": "python",
      "pygments_lexer": "ipython3",
      "version": "3.10.11"
    }
  },
  "nbformat": 4,
  "nbformat_minor": 0
}
