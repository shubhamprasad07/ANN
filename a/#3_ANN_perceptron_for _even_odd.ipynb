{
 "cells": [
  {
   "cell_type": "code",
   "execution_count": 60,
   "id": "f9cc7da0",
   "metadata": {},
   "outputs": [],
   "source": [
    "###Write a code for perceptron model for to identify even or odd\n",
    "\n",
    "\n",
    "\n",
    "\n",
    "\n",
    "import numpy as np \n",
    "\n"
   ]
  },
  {
   "cell_type": "code",
   "execution_count": 61,
   "id": "95e5ef13",
   "metadata": {},
   "outputs": [],
   "source": [
    "class even_odd:\n",
    "    \n",
    "    \n",
    "    def __init__(self,weights,bias,epoch,learning_rate):\n",
    "        \n",
    "        \n",
    "        self.weights=weights\n",
    "       \n",
    "        self.bias=bias\n",
    "        self.learning_rate=learning_rate\n",
    "        \n",
    "        self.epoch=epoch\n",
    "        \n",
    "        \n",
    "    def activation_function(self,input):\n",
    "        if input>0 :\n",
    "            return 1 \n",
    "        else:\n",
    "            return 0 \n",
    "    \n",
    "    def predict(self,inputs):\n",
    "        weighted_sum=np.dot(inputs,self.weights)+bias\n",
    "        \n",
    "        return  self.activation_function(weighted_sum)\n",
    "    \n",
    "\n",
    "    def training(self,training_inputs,labels):\n",
    "        \n",
    "        for _ in range(self.epoch):\n",
    "            for input,label in zip(training_inputs,labels):\n",
    "                \n",
    "                \n",
    "                prediction=self.predict(input)\n",
    "                error=label-prediction\n",
    "                \n",
    "                \n",
    "                self.weights=self.weights+input*self.learning_rate*error\n",
    "                self.bias=self.bias+self.learning_rate*error \n",
    "                \n",
    "                \n",
    "                \n",
    "        "
   ]
  },
  {
   "cell_type": "code",
   "execution_count": 56,
   "id": "9c7d28ea",
   "metadata": {},
   "outputs": [
    {
     "name": "stdout",
     "output_type": "stream",
     "text": [
      "0\n"
     ]
    }
   ],
   "source": [
    "if __name__== \"__main__\":\n",
    "    \n",
    "    \n",
    "    \n",
    "    training_input=[2,3,4,5,6,7,8,1]\n",
    "    labels=[1,0,1,0,0,1,0,1,0]   ###) for the odd and 1 for even \n",
    "    weights=np.random.randint(len(training_input))\n",
    " \n",
    "    learning_rate=0.01\n",
    "    bias=1\n",
    "    epoch=100\n",
    "    \n",
    "    \n",
    "    \n",
    "    \n",
    "    model_class=even_odd(weights,learning_rate,bias,epoch)\n",
    "    \n",
    "    model1=model_class.training(training_input,labels)\n",
    "    \n",
    "    \n",
    "    print(model_class.predict(27))\n",
    "    \n",
    "    \n",
    "    \n",
    "\n",
    "    "
   ]
  },
  {
   "cell_type": "code",
   "execution_count": null,
   "id": "a7cb323d",
   "metadata": {},
   "outputs": [],
   "source": []
  },
  {
   "cell_type": "code",
   "execution_count": 59,
   "id": "44628a46",
   "metadata": {},
   "outputs": [
    {
     "name": "stdout",
     "output_type": "stream",
     "text": [
      "0\n"
     ]
    }
   ],
   "source": [
    "]"
   ]
  },
  {
   "cell_type": "code",
   "execution_count": null,
   "id": "14c92828",
   "metadata": {},
   "outputs": [],
   "source": []
  }
 ],
 "metadata": {
  "kernelspec": {
   "display_name": "Python 3 (ipykernel)",
   "language": "python",
   "name": "python3"
  },
  "language_info": {
   "codemirror_mode": {
    "name": "ipython",
    "version": 3
   },
   "file_extension": ".py",
   "mimetype": "text/x-python",
   "name": "python",
   "nbconvert_exporter": "python",
   "pygments_lexer": "ipython3",
   "version": "3.11.5"
  }
 },
 "nbformat": 4,
 "nbformat_minor": 5
}
