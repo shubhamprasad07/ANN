{
 "cells": [
  {
   "cell_type": "code",
   "execution_count": 18,
   "id": "642c1d4f-787e-416c-8fa5-6612aca6da49",
   "metadata": {},
   "outputs": [],
   "source": [
    "import numpy as np"
   ]
  },
  {
   "cell_type": "code",
   "execution_count": 19,
   "id": "ca5a1e2e-c52f-485d-bb37-879112407600",
   "metadata": {},
   "outputs": [],
   "source": [
    "def notand( x1 , x2 ):\n",
    "    weight = [ 1, -1 ]\n",
    "    threshold = 1\n",
    "    inputs = np.array([ x1 , x2 ])\n",
    "    output = mp( inputs , weight , threshold )\n",
    "    return output\n",
    "\n",
    "def mp( inputs , weights , threshold ):\n",
    "    weight_sum = np.dot( inputs , weights )\n",
    "    if ( weight_sum >= threshold ):\n",
    "        return 1\n",
    "    else:\n",
    "        return 0"
   ]
  },
  {
   "cell_type": "code",
   "execution_count": 20,
   "id": "6258694b-dba9-4f7f-8b6a-f60e71bd0604",
   "metadata": {},
   "outputs": [
    {
     "name": "stdout",
     "output_type": "stream",
     "text": [
      "0\n",
      "0\n",
      "1\n",
      "0\n"
     ]
    }
   ],
   "source": [
    "print( notand(0,0) )\n",
    "print( notand(0,1) )\n",
    "print( notand(1,0) )\n",
    "print( notand(1,1) )"
   ]
  },
  {
   "cell_type": "code",
   "execution_count": null,
   "id": "e7cfcef3-295b-4e7f-b7c0-f04fb83e82c0",
   "metadata": {},
   "outputs": [],
   "source": []
  }
 ],
 "metadata": {
  "kernelspec": {
   "display_name": "Python 3 (ipykernel)",
   "language": "python",
   "name": "python3"
  },
  "language_info": {
   "codemirror_mode": {
    "name": "ipython",
    "version": 3
   },
   "file_extension": ".py",
   "mimetype": "text/x-python",
   "name": "python",
   "nbconvert_exporter": "python",
   "pygments_lexer": "ipython3",
   "version": "3.10.11"
  }
 },
 "nbformat": 4,
 "nbformat_minor": 5
}
