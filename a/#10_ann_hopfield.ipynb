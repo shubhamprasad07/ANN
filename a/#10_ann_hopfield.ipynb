{
 "cells": [
  {
   "cell_type": "code",
   "execution_count": 1,
   "id": "6449795a",
   "metadata": {},
   "outputs": [
    {
     "name": "stdout",
     "output_type": "stream",
     "text": [
      "Retrieved Pattern: [ 1. -1.  1. -1.  1.]\n"
     ]
    }
   ],
   "source": [
    "import numpy as np\n",
    "\n",
    "class HopfieldNetwork:\n",
    "    def __init__(self, pattern_size):\n",
    "        self.pattern_size = pattern_size\n",
    "        self.weights = np.zeros((pattern_size, pattern_size))\n",
    "\n",
    "    def train(self, patterns):\n",
    "        for pattern in patterns:\n",
    "            pattern = np.array(pattern).reshape(-1, 1)\n",
    "            self.weights += np.outer(pattern, pattern)\n",
    "            np.fill_diagonal(self.weights, 0)\n",
    "\n",
    "    def predict(self, pattern, max_iter=100):\n",
    "        pattern = np.array(pattern).reshape(-1, 1)\n",
    "        for _ in range(max_iter):\n",
    "            old_pattern = pattern.copy()\n",
    "            pattern = np.sign(np.dot(self.weights, pattern))\n",
    "            if np.array_equal(pattern, old_pattern):\n",
    "                return pattern.flatten()\n",
    "        raise ValueError(\"Max iterations reached without convergence\")\n",
    "\n",
    "# Example usage\n",
    "if __name__ == \"__main__\":\n",
    "    # Define patterns for training\n",
    "    patterns = [\n",
    "        [1, 1, 1, -1, -1],\n",
    "        [1, -1, 1, -1, 1],\n",
    "        [-1, 1, -1, 1, -1]\n",
    "    ]\n",
    "\n",
    "    # Create and train Hopfield network\n",
    "    hopfield_net = HopfieldNetwork(pattern_size=len(patterns[0]))\n",
    "    hopfield_net.train(patterns)\n",
    "\n",
    "    # Test pattern retrieval\n",
    "    test_pattern = [1, -1, 1, -1, 1]\n",
    "    retrieved_pattern = hopfield_net.predict(test_pattern)\n",
    "    print(\"Retrieved Pattern:\", retrieved_pattern)\n",
    "\n",
    "    "
   ]
  },
  {
   "cell_type": "code",
   "execution_count": null,
   "id": "29390c4f",
   "metadata": {},
   "outputs": [],
   "source": []
  }
 ],
 "metadata": {
  "kernelspec": {
   "display_name": "Python 3 (ipykernel)",
   "language": "python",
   "name": "python3"
  },
  "language_info": {
   "codemirror_mode": {
    "name": "ipython",
    "version": 3
   },
   "file_extension": ".py",
   "mimetype": "text/x-python",
   "name": "python",
   "nbconvert_exporter": "python",
   "pygments_lexer": "ipython3",
   "version": "3.11.5"
  }
 },
 "nbformat": 4,
 "nbformat_minor": 5
}
