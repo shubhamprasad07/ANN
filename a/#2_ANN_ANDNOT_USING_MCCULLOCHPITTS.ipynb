{
 "cells": [
  {
   "cell_type": "code",
   "execution_count": 1,
   "id": "716b8bbd",
   "metadata": {},
   "outputs": [],
   "source": [
    "##MCCulochPitts model for AND NOT GATE "
   ]
  },
  {
   "cell_type": "code",
   "execution_count": 11,
   "id": "c4fed561",
   "metadata": {},
   "outputs": [],
   "source": [
    "class  mcpit:\n",
    "    \n",
    "    \n",
    "    def __init__(self,threshold,weights):\n",
    "        \n",
    "        self.threshold=threshold\n",
    "        self.weights=weights\n",
    "        \n",
    "        \n",
    "    def activate(self,inputs):\n",
    "        \n",
    "        \n",
    "        weighted_sum=sum(weight*input  for weight ,input in zip(weights,inputs))\n",
    "        \n",
    "        \n",
    "        print(weighted_sum)\n",
    "        \n",
    "        if weighted_sum>=self.threshold:\n",
    "            \n",
    "            return 1\n",
    "        else:\n",
    "            return 0\n",
    "        \n",
    "        \n",
    "        "
   ]
  },
  {
   "cell_type": "code",
   "execution_count": 14,
   "id": "f557c9f3",
   "metadata": {},
   "outputs": [
    {
     "name": "stdout",
     "output_type": "stream",
     "text": [
      "136\n",
      "136\n",
      "the output for the above inputs is:0\n"
     ]
    }
   ],
   "source": [
    "if __name__==\"__main__\":\n",
    "    \n",
    "    ##Defining the weights \n",
    "    weights=[1,1,1,1]\n",
    "    \n",
    "    \n",
    "    \n",
    "    \n",
    "    \n",
    "    ##Defining the the\n",
    "    threshold=200\n",
    "    \n",
    "    \n",
    "    ##Defining\n",
    "    input=[12,23,45,56]\n",
    "    \n",
    "    \n",
    "    #calling the function \n",
    "    \n",
    "    mc=mcpit(threshold,weights)\n",
    "    mc.activate(input)\n",
    "    \n",
    "    \n",
    "    \n",
    "    print(f\"the output for the above inputs is:{mc.activate(input)}\")\n",
    "    "
   ]
  },
  {
   "cell_type": "code",
   "execution_count": null,
   "id": "b14452a3",
   "metadata": {},
   "outputs": [],
   "source": []
  },
  {
   "cell_type": "code",
   "execution_count": null,
   "id": "04aa409f",
   "metadata": {},
   "outputs": [],
   "source": []
  },
  {
   "cell_type": "code",
   "execution_count": null,
   "id": "2a85003c",
   "metadata": {},
   "outputs": [],
   "source": []
  },
  {
   "cell_type": "code",
   "execution_count": null,
   "id": "b3b82802",
   "metadata": {},
   "outputs": [],
   "source": []
  }
 ],
 "metadata": {
  "kernelspec": {
   "display_name": "Python 3 (ipykernel)",
   "language": "python",
   "name": "python3"
  },
  "language_info": {
   "codemirror_mode": {
    "name": "ipython",
    "version": 3
   },
   "file_extension": ".py",
   "mimetype": "text/x-python",
   "name": "python",
   "nbconvert_exporter": "python",
   "pygments_lexer": "ipython3",
   "version": "3.11.5"
  }
 },
 "nbformat": 4,
 "nbformat_minor": 5
}
