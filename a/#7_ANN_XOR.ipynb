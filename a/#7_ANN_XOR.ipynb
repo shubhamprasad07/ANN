{
 "cells": [
  {
   "cell_type": "code",
   "execution_count": 1,
   "id": "bf5a5974",
   "metadata": {},
   "outputs": [],
   "source": [
    "##Backpropagation network for xor with binary input and output "
   ]
  },
  {
   "cell_type": "code",
   "execution_count": null,
   "id": "c4454e23",
   "metadata": {},
   "outputs": [],
   "source": []
  },
  {
   "cell_type": "code",
   "execution_count": null,
   "id": "9e85bbea",
   "metadata": {},
   "outputs": [],
   "source": []
  },
  {
   "cell_type": "code",
   "execution_count": null,
   "id": "370d13fa",
   "metadata": {},
   "outputs": [],
   "source": []
  },
  {
   "cell_type": "code",
   "execution_count": 4,
   "id": "96666429",
   "metadata": {},
   "outputs": [
    {
     "name": "stdout",
     "output_type": "stream",
     "text": [
      "Predictions after training:\n",
      "Input: [[0 0]\n",
      " [0 1]\n",
      " [1 0]\n",
      " [1 1]]\n",
      "Input: [[0 0]\n",
      " [0 1]\n",
      " [1 0]\n",
      " [1 1]]\n",
      "Input: [[0 0]\n",
      " [0 1]\n",
      " [1 0]\n",
      " [1 1]]\n",
      "Input: [[0 0]\n",
      " [0 1]\n",
      " [1 0]\n",
      " [1 1]]\n"
     ]
    }
   ],
   "source": [
    "import numpy as np\n",
    "\n",
    "# Activation function (sigmoid)\n",
    "def sigmoid(x):\n",
    "    return 1 / (1 + np.exp(-x))\n",
    "\n",
    "# Derivative of sigmoid\n",
    "def sigmoid_derivative(x):\n",
    "    return x * (1 - x)\n",
    "\n",
    "# Define the neural network class\n",
    "class XORNetwork:\n",
    "    def __init__(self):\n",
    "        # Initialize weights randomly with mean 0\n",
    "        self.weights_input_hidden = 2 * np.random.random((2, 2)) - 1\n",
    "        self.weights_hidden_output = 2 * np.random.random((2, 1)) - 1\n",
    "\n",
    "    # Forward pass\n",
    "    def forward(self, X):\n",
    "        self.hidden_input = np.dot(X, self.weights_input_hidden)\n",
    "        self.hidden_output = sigmoid(self.hidden_input)\n",
    "        self.output_input = np.dot(self.hidden_output, self.weights_hidden_output)\n",
    "        self.output = sigmoid(self.output_input)\n",
    "        return self.output\n",
    "\n",
    "    # Backpropagation\n",
    "    def backward(self, X, y, output):\n",
    "        # Calculate error\n",
    "        output_error = y - output\n",
    "        output_delta = output_error * sigmoid_derivative(output)\n",
    "\n",
    "        # Backpropagate the error to the hidden layer\n",
    "        hidden_error = output_delta.dot(self.weights_hidden_output.T)\n",
    "        hidden_delta = hidden_error * sigmoid_derivative(self.hidden_output)\n",
    "\n",
    "        # Update weights\n",
    "        self.weights_hidden_output += self.hidden_output.T.dot(output_delta)\n",
    "        self.weights_input_hidden += X.T.dot(hidden_delta)\n",
    "\n",
    "    # Train the network\n",
    "    def train(self, X, y, epochs):\n",
    "        for _ in range(epochs):\n",
    "            output = self.forward(X)\n",
    "            self.backward(X, y, output)\n",
    "\n",
    "# Input and output data (XOR)\n",
    "X = np.array([[0, 0],\n",
    "              [0, 1],\n",
    "              [1, 0],\n",
    "              [1, 1]])\n",
    "y = np.array([[0], [1], [1], [0]])\n",
    "\n",
    "# Create and train the XOR network\n",
    "xor_network = XORNetwork()\n",
    "xor_network.train(X, y, epochs=10000)\n",
    "\n",
    "# Test the trained network\n",
    "print(\"Predictions after training:\")\n",
    "for i in range(len(X)):\n",
    "    prediction = xor_network.forward(X[i])\n",
    "    print(f\"Input: {X}\")\n",
    "\n"
   ]
  },
  {
   "cell_type": "code",
   "execution_count": null,
   "id": "e0a9ffaf",
   "metadata": {},
   "outputs": [],
   "source": []
  }
 ],
 "metadata": {
  "kernelspec": {
   "display_name": "Python 3 (ipykernel)",
   "language": "python",
   "name": "python3"
  },
  "language_info": {
   "codemirror_mode": {
    "name": "ipython",
    "version": 3
   },
   "file_extension": ".py",
   "mimetype": "text/x-python",
   "name": "python",
   "nbconvert_exporter": "python",
   "pygments_lexer": "ipython3",
   "version": "3.11.5"
  }
 },
 "nbformat": 4,
 "nbformat_minor": 5
}
